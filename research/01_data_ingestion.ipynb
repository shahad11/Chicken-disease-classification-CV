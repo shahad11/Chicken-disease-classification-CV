{
 "cells": [
  {
   "cell_type": "code",
   "execution_count": 2,
   "metadata": {},
   "outputs": [
    {
     "data": {
      "text/plain": [
       "'c:\\\\Users\\\\SHAHAMOH\\\\OneDrive - Capgemini\\\\Desktop\\\\STUDY MATERIALS\\\\Deep_learning\\\\Computer_Vision\\\\Chicken-disease-classification-CV\\\\research'"
      ]
     },
     "execution_count": 2,
     "metadata": {},
     "output_type": "execute_result"
    }
   ],
   "source": [
    "%pwd"
   ]
  },
  {
   "cell_type": "code",
   "execution_count": 4,
   "metadata": {},
   "outputs": [
    {
     "data": {
      "text/plain": [
       "'c:\\\\Users\\\\SHAHAMOH\\\\OneDrive - Capgemini\\\\Desktop\\\\STUDY MATERIALS\\\\Deep_learning\\\\Computer_Vision\\\\Chicken-disease-classification-CV'"
      ]
     },
     "execution_count": 4,
     "metadata": {},
     "output_type": "execute_result"
    }
   ],
   "source": [
    "import os\n",
    "os.chdir(\"../\")\n",
    "%pwd"
   ]
  },
  {
   "cell_type": "code",
   "execution_count": 5,
   "metadata": {},
   "outputs": [
    {
     "data": {
      "text/plain": [
       "'c:\\\\Users\\\\SHAHAMOH\\\\OneDrive - Capgemini\\\\Desktop\\\\STUDY MATERIALS\\\\Deep_learning\\\\Computer_Vision\\\\Chicken-disease-classification-CV'"
      ]
     },
     "execution_count": 5,
     "metadata": {},
     "output_type": "execute_result"
    }
   ],
   "source": [
    "os.getcwd()"
   ]
  },
  {
   "cell_type": "code",
   "execution_count": null,
   "metadata": {},
   "outputs": [],
   "source": []
  }
 ],
 "metadata": {
  "kernelspec": {
   "display_name": "Python 3.11.4 ('SVCS')",
   "language": "python",
   "name": "python3"
  },
  "language_info": {
   "codemirror_mode": {
    "name": "ipython",
    "version": 3
   },
   "file_extension": ".py",
   "mimetype": "text/x-python",
   "name": "python",
   "nbconvert_exporter": "python",
   "pygments_lexer": "ipython3",
   "version": "3.11.4"
  },
  "orig_nbformat": 4,
  "vscode": {
   "interpreter": {
    "hash": "404ec559087af1b76ebbee82d9d8802a45c7858b9c3c65c72c293a354e690ba3"
   }
  }
 },
 "nbformat": 4,
 "nbformat_minor": 2
}
